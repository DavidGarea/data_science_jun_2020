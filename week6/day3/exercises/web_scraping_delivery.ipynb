{
 "metadata": {
  "language_info": {
   "codemirror_mode": {
    "name": "ipython",
    "version": 3
   },
   "file_extension": ".py",
   "mimetype": "text/x-python",
   "name": "python",
   "nbconvert_exporter": "python",
   "pygments_lexer": "ipython3",
   "version": 3
  },
  "orig_nbformat": 2,
  "kernelspec": {
   "name": "python_defaultSpec_1595779681550",
   "display_name": "Python 3.6.4 64-bit"
  }
 },
 "nbformat": 4,
 "nbformat_minor": 2,
 "cells": [
  {
   "cell_type": "markdown",
   "metadata": {},
   "source": [
    "### 1. From HTML\n",
    "\n",
    "*Using only beautiful soap*\n",
    "\n",
    "Save in a dataframe the next information using web scraping. Each row of the dataframe must have in different columns:\n",
    "\n",
    "- The name of the title\n",
    "- The id of the div where is the value scraped. If there is not id, then the value is must be numpy.nan\n",
    "- The name of the tag where is the value scraped.\n",
    "- The next scraped values in different rows: \n",
    "    - The value: \"Este es el segundo párrafo\"  --> Row 1\n",
    "    - The url https://pagina1.xyz/ --> Row 2\n",
    "    - The url https://pagina4.xyz/ --> Row 3\n",
    "    - The url https://pagina5.xyz/ --> Row 4\n",
    "    - The value \"links footer-links\" --> Row 5\n",
    "    - The value \"Este párrafo está en el footer\" --> Row 6"
   ]
  },
  {
   "cell_type": "code",
   "execution_count": 1,
   "metadata": {},
   "outputs": [],
   "source": [
    "html = \"\"\"<html lang=\"es\">\n",
    "<head>\n",
    "    <meta charset=\"UTF-8\">\n",
    "    <title>Página de prueba</title>\n",
    "</head>\n",
    "<body>\n",
    "<div id=\"main\" class=\"full-width\">\n",
    "    <h1>El título de la página</h1>\n",
    "    <p>Este es el primer párrafo</p>\n",
    "    <p>Este es el segundo párrafo</p>\n",
    "    <div id=\"innerDiv\">\n",
    "        <div class=\"links\">\n",
    "            <a href=\"https://pagina1.xyz/\">Enlace 1</a>\n",
    "            <a href=\"https://pagina2.xyz/\">Enlace 2</a>\n",
    "        </div>\n",
    "        <div class=\"right\">\n",
    "            <div class=\"links\">\n",
    "                <a href=\"https://pagina3.xyz/\">Enlace 3</a>\n",
    "                <a href=\"https://pagina4.xyz/\">Enlace 4</a>\n",
    "            </div>\n",
    "        </div>\n",
    "    </div>\n",
    "    <div id=\"footer\">\n",
    "        <!-- El footer -->\n",
    "        <p>Este párrafo está en el footer</p>\n",
    "        <div class=\"links footer-links\">\n",
    "            <a href=\"https://pagina5.xyz/\">Enlace 5</a>\n",
    "        </div>\n",
    "    </div>\n",
    "</div>\n",
    "</body>\n",
    "</html>\"\"\""
   ]
  },
  {
   "cell_type": "markdown",
   "metadata": {},
   "source": [
    "import re\n",
    "import bs4\n",
    "\n",
    "soup = bs4.BeautifulSoup(html)\n",
    "\n",
    "x = [re.search('\"\\w+\"', e).group()[1:-1] for e in re.findall(\"id=.*\",str(soup.contents[0]))]\n",
    "\n",
    "x"
   ]
  },
  {
   "cell_type": "markdown",
   "metadata": {},
   "source": [
    "type(soup.contents[0])"
   ]
  },
  {
   "cell_type": "markdown",
   "metadata": {},
   "source": [
    "lista = re.findall(\"id=.*\",str(soup.contents[0]))\n",
    "lista"
   ]
  },
  {
   "cell_type": "markdown",
   "metadata": {
    "tags": []
   },
   "source": [
    "for e in lista:\n",
    "    print(re.search('\"\\w+\"', e).group()[1:-1])"
   ]
  },
  {
   "cell_type": "code",
   "execution_count": 2,
   "metadata": {},
   "outputs": [],
   "source": [
    "# Importo las librerías \n",
    "import request\n",
    "from bs4 import BeautifulSoup\n",
    "import pandas as pd"
   ]
  },
  {
   "cell_type": "code",
   "execution_count": 3,
   "metadata": {},
   "outputs": [],
   "source": [
    "html = \"\"\"<html lang=\"es\">\n",
    "<head>\n",
    "    <meta charset=\"UTF-8\">\n",
    "    <title>Página de prueba</title>\n",
    "</head>\n",
    "<body>\n",
    "<div id=\"main\" class=\"full-width\">\n",
    "    <h1>El título de la página</h1>\n",
    "    <p>Este es el primer párrafo</p>\n",
    "    <p>Este es el segundo párrafo</p>\n",
    "    <div id=\"innerDiv\">\n",
    "        <div class=\"links\">\n",
    "            <a href=\"https://pagina1.xyz/\">Enlace 1</a>\n",
    "            <a href=\"https://pagina2.xyz/\">Enlace 2</a>\n",
    "        </div>\n",
    "        <div class=\"right\">\n",
    "            <div class=\"links\">\n",
    "                <a href=\"https://pagina3.xyz/\">Enlace 3</a>\n",
    "                <a href=\"https://pagina4.xyz/\">Enlace 4</a>\n",
    "            </div>\n",
    "        </div>\n",
    "    </div>\n",
    "    <div id=\"footer\">\n",
    "        <!-- El footer -->\n",
    "        <p>Este párrafo está en el footer</p>\n",
    "        <div class=\"links footer-links\">\n",
    "            <a href=\"https://pagina5.xyz/\">Enlace 5</a>\n",
    "        </div>\n",
    "    </div>\n",
    "</div>\n",
    "</body>\n",
    "</html>\"\"\""
   ]
  },
  {
   "cell_type": "code",
   "execution_count": 4,
   "metadata": {},
   "outputs": [
    {
     "output_type": "execute_result",
     "data": {
      "text/plain": "str"
     },
     "metadata": {},
     "execution_count": 4
    }
   ],
   "source": [
    "#Compruebo el tipo de la variable html\n",
    "type(html)"
   ]
  },
  {
   "cell_type": "code",
   "execution_count": 5,
   "metadata": {
    "tags": []
   },
   "outputs": [
    {
     "output_type": "stream",
     "name": "stdout",
     "text": "<html lang=\"es\">\n<head>\n<meta charset=\"utf-8\"/>\n<title>Página de prueba</title>\n</head>\n<body>\n<div class=\"full-width\" id=\"main\">\n<h1>El título de la página</h1>\n<p>Este es el primer párrafo</p>\n<p>Este es el segundo párrafo</p>\n<div id=\"innerDiv\">\n<div class=\"links\">\n<a href=\"https://pagina1.xyz/\">Enlace 1</a>\n<a href=\"https://pagina2.xyz/\">Enlace 2</a>\n</div>\n<div class=\"right\">\n<div class=\"links\">\n<a href=\"https://pagina3.xyz/\">Enlace 3</a>\n<a href=\"https://pagina4.xyz/\">Enlace 4</a>\n</div>\n</div>\n</div>\n<div id=\"footer\">\n<!-- El footer -->\n<p>Este párrafo está en el footer</p>\n<div class=\"links footer-links\">\n<a href=\"https://pagina5.xyz/\">Enlace 5</a>\n</div>\n</div>\n</div>\n</body>\n</html>\n"
    }
   ],
   "source": [
    "#Convierto la str a type bs4\n",
    "soup = BeautifulSoup(html, 'html.parser')\n",
    "type(soup)\n",
    "print (soup)"
   ]
  },
  {
   "cell_type": "code",
   "execution_count": 6,
   "metadata": {},
   "outputs": [],
   "source": [
    "name_title = soup.find(\"title\")"
   ]
  },
  {
   "cell_type": "code",
   "execution_count": 12,
   "metadata": {},
   "outputs": [],
   "source": [
    "def show_html(html):\n",
    "\n",
    "    print(BeautifulSoup(str(html), 'html.parser').prettify())"
   ]
  },
  {
   "cell_type": "code",
   "execution_count": 13,
   "metadata": {
    "tags": []
   },
   "outputs": [
    {
     "output_type": "stream",
     "name": "stdout",
     "text": "<html lang=\"es\">\n <head>\n  <meta charset=\"utf-8\"/>\n  <title>\n   Página de prueba\n  </title>\n </head>\n <body>\n  <div class=\"full-width\" id=\"main\">\n   <h1>\n    El título de la página\n   </h1>\n   <p>\n    Este es el primer párrafo\n   </p>\n   <p>\n    Este es el segundo párrafo\n   </p>\n   <div id=\"innerDiv\">\n    <div class=\"links\">\n     <a href=\"https://pagina1.xyz/\">\n      Enlace 1\n     </a>\n     <a href=\"https://pagina2.xyz/\">\n      Enlace 2\n     </a>\n    </div>\n    <div class=\"right\">\n     <div class=\"links\">\n      <a href=\"https://pagina3.xyz/\">\n       Enlace 3\n      </a>\n      <a href=\"https://pagina4.xyz/\">\n       Enlace 4\n      </a>\n     </div>\n    </div>\n   </div>\n   <div id=\"footer\">\n    <!-- El footer -->\n    <p>\n     Este párrafo está en el footer\n    </p>\n    <div class=\"links footer-links\">\n     <a href=\"https://pagina5.xyz/\">\n      Enlace 5\n     </a>\n    </div>\n   </div>\n  </div>\n </body>\n</html>\n"
    }
   ],
   "source": [
    "show_html(html)"
   ]
  },
  {
   "cell_type": "code",
   "execution_count": 14,
   "metadata": {},
   "outputs": [
    {
     "output_type": "execute_result",
     "data": {
      "text/plain": "bs4.element.Tag"
     },
     "metadata": {},
     "execution_count": 14
    }
   ],
   "source": [
    "type(name_title)"
   ]
  },
  {
   "cell_type": "code",
   "execution_count": 15,
   "metadata": {},
   "outputs": [],
   "source": [
    "name_title = name_title.contents[0:1]"
   ]
  },
  {
   "cell_type": "code",
   "execution_count": 16,
   "metadata": {},
   "outputs": [
    {
     "output_type": "execute_result",
     "data": {
      "text/plain": "['Página de prueba',\n 'Página de prueba',\n 'Página de prueba',\n 'Página de prueba',\n 'Página de prueba',\n 'Página de prueba']"
     },
     "metadata": {},
     "execution_count": 16
    }
   ],
   "source": [
    "title = name_title * 6\n",
    "title"
   ]
  },
  {
   "cell_type": "code",
   "execution_count": 38,
   "metadata": {},
   "outputs": [
    {
     "output_type": "execute_result",
     "data": {
      "text/plain": "'Este es el segundo párrafo'"
     },
     "metadata": {},
     "execution_count": 38
    }
   ],
   "source": [
    "row1 = soup.find_all(\"p\")\n",
    "row1 = row1[1]\n",
    "row1=row1.contents[0:1]\n",
    "row1= row1[0]\n",
    "row1"
   ]
  },
  {
   "cell_type": "code",
   "execution_count": 18,
   "metadata": {},
   "outputs": [
    {
     "output_type": "execute_result",
     "data": {
      "text/plain": "5"
     },
     "metadata": {},
     "execution_count": 18
    }
   ],
   "source": [
    "links = soup.find_all('a')\n",
    "links = list(links)\n",
    "type(links)\n",
    "len(links)"
   ]
  },
  {
   "cell_type": "code",
   "execution_count": 19,
   "metadata": {},
   "outputs": [
    {
     "output_type": "execute_result",
     "data": {
      "text/plain": "[<a href=\"https://pagina1.xyz/\">Enlace 1</a>,\n <a href=\"https://pagina2.xyz/\">Enlace 2</a>,\n <a href=\"https://pagina3.xyz/\">Enlace 3</a>,\n <a href=\"https://pagina4.xyz/\">Enlace 4</a>,\n <a href=\"https://pagina5.xyz/\">Enlace 5</a>]"
     },
     "metadata": {},
     "execution_count": 19
    }
   ],
   "source": [
    "links[:]"
   ]
  },
  {
   "cell_type": "code",
   "execution_count": 20,
   "metadata": {},
   "outputs": [
    {
     "output_type": "execute_result",
     "data": {
      "text/plain": "['https://pagina1.xyz/',\n 'https://pagina2.xyz/',\n 'https://pagina3.xyz/',\n 'https://pagina4.xyz/',\n 'https://pagina5.xyz/']"
     },
     "metadata": {},
     "execution_count": 20
    }
   ],
   "source": [
    "enlaces = []\n",
    "for elem in links:\n",
    "    enlaces.append(elem.get('href'))\n",
    "enlaces"
   ]
  },
  {
   "cell_type": "code",
   "execution_count": 21,
   "metadata": {},
   "outputs": [
    {
     "output_type": "execute_result",
     "data": {
      "text/plain": "'https://pagina1.xyz/'"
     },
     "metadata": {},
     "execution_count": 21
    }
   ],
   "source": [
    "row2 = enlaces[0]\n",
    "row2"
   ]
  },
  {
   "cell_type": "code",
   "execution_count": 22,
   "metadata": {},
   "outputs": [
    {
     "output_type": "execute_result",
     "data": {
      "text/plain": "'https://pagina4.xyz/'"
     },
     "metadata": {},
     "execution_count": 22
    }
   ],
   "source": [
    "row3 = enlaces[3]\n",
    "row3"
   ]
  },
  {
   "cell_type": "code",
   "execution_count": 23,
   "metadata": {},
   "outputs": [
    {
     "output_type": "execute_result",
     "data": {
      "text/plain": "'https://pagina5.xyz/'"
     },
     "metadata": {},
     "execution_count": 23
    }
   ],
   "source": [
    "row4 = enlaces[4]\n",
    "row4"
   ]
  },
  {
   "cell_type": "code",
   "execution_count": 24,
   "metadata": {},
   "outputs": [
    {
     "output_type": "execute_result",
     "data": {
      "text/plain": "'footer-links'"
     },
     "metadata": {},
     "execution_count": 24
    }
   ],
   "source": [
    "row5 = soup.select('div')[-1]\n",
    "row5 = row5.get('class')[1]\n",
    "row5 "
   ]
  },
  {
   "cell_type": "code",
   "execution_count": 35,
   "metadata": {},
   "outputs": [
    {
     "output_type": "execute_result",
     "data": {
      "text/plain": "'Este párrafo está en el footer'"
     },
     "metadata": {},
     "execution_count": 35
    }
   ],
   "source": [
    "row6 = soup.select('p')[2]\n",
    "row6 = row6.contents[:]\n",
    "row6 = row6[0]\n",
    "row6"
   ]
  },
  {
   "cell_type": "code",
   "execution_count": 39,
   "metadata": {},
   "outputs": [
    {
     "output_type": "execute_result",
     "data": {
      "text/plain": "['Este es el segundo párrafo',\n 'https://pagina1.xyz/',\n 'https://pagina4.xyz/',\n 'https://pagina5.xyz/',\n 'footer-links',\n 'Este párrafo está en el footer']"
     },
     "metadata": {},
     "execution_count": 39
    }
   ],
   "source": [
    "value = [row1,row2,row3,row4,row5,row6]\n",
    "value"
   ]
  },
  {
   "cell_type": "code",
   "execution_count": 76,
   "metadata": {},
   "outputs": [],
   "source": [
    "identificador =[0,0,0,0,0,0]\n",
    "Tag =[0,0,0,0,0,0]"
   ]
  },
  {
   "cell_type": "code",
   "execution_count": 79,
   "metadata": {},
   "outputs": [],
   "source": [
    "#Para cada tag  id en soup, encuentra todos los que haya en \"html\".\n",
    "id_=[]\n",
    "for tag in soup.find_all(True,{\"id\":True}):  \n",
    "    id_.append(tag[\"id\"])"
   ]
  },
  {
   "cell_type": "code",
   "execution_count": 80,
   "metadata": {},
   "outputs": [
    {
     "output_type": "execute_result",
     "data": {
      "text/plain": "['main', 'innerDiv', 'footer']"
     },
     "metadata": {},
     "execution_count": 80
    }
   ],
   "source": [
    "id_"
   ]
  },
  {
   "cell_type": "code",
   "execution_count": 81,
   "metadata": {},
   "outputs": [
    {
     "output_type": "execute_result",
     "data": {
      "text/plain": "['main', 'footer']"
     },
     "metadata": {},
     "execution_count": 81
    }
   ],
   "source": [
    "id_.pop(1)\n",
    "id_"
   ]
  },
  {
   "cell_type": "code",
   "execution_count": 83,
   "metadata": {},
   "outputs": [
    {
     "output_type": "execute_result",
     "data": {
      "text/plain": "['main', 'footer', 'Nan', 'Nan', 'Nan', 'footer']"
     },
     "metadata": {},
     "execution_count": 83
    }
   ],
   "source": [
    "id_.insert(2,\"Nan\")\n",
    "id_.insert(3,\"Nan\")\n",
    "id_.insert(4,\"Nan\")\n",
    "id_.insert(5,\"footer\")\n",
    "id_"
   ]
  },
  {
   "cell_type": "code",
   "execution_count": 91,
   "metadata": {},
   "outputs": [
    {
     "output_type": "execute_result",
     "data": {
      "text/plain": "['p', 'a', 'a', 'a', 'div', 'p']"
     },
     "metadata": {},
     "execution_count": 91
    }
   ],
   "source": [
    "pos=[\"p\",\"a\",\"a\",\"a\",\"div\",\"p\"]\n",
    "length=len(pos)\n",
    "length\n",
    "\n",
    "tag=[]\n",
    "for i in range(length):\n",
    "    tag_=(pos[i])\n",
    "    tag.append(tag_)\n",
    "tag"
   ]
  },
  {
   "cell_type": "code",
   "execution_count": 92,
   "metadata": {},
   "outputs": [],
   "source": [
    "df = pd.DataFrame({\"Title\":title, \"ID\":id_, \"Tag\": tag, \"Value\": value})"
   ]
  },
  {
   "cell_type": "code",
   "execution_count": 93,
   "metadata": {},
   "outputs": [
    {
     "output_type": "execute_result",
     "data": {
      "text/plain": "              Title      ID  Tag                           Value\n0  Página de prueba    main    p      Este es el segundo párrafo\n1  Página de prueba  footer    a            https://pagina1.xyz/\n2  Página de prueba     Nan    a            https://pagina4.xyz/\n3  Página de prueba     Nan    a            https://pagina5.xyz/\n4  Página de prueba     Nan  div                    footer-links\n5  Página de prueba  footer    p  Este párrafo está en el footer",
      "text/html": "<div>\n<style scoped>\n    .dataframe tbody tr th:only-of-type {\n        vertical-align: middle;\n    }\n\n    .dataframe tbody tr th {\n        vertical-align: top;\n    }\n\n    .dataframe thead th {\n        text-align: right;\n    }\n</style>\n<table border=\"1\" class=\"dataframe\">\n  <thead>\n    <tr style=\"text-align: right;\">\n      <th></th>\n      <th>Title</th>\n      <th>ID</th>\n      <th>Tag</th>\n      <th>Value</th>\n    </tr>\n  </thead>\n  <tbody>\n    <tr>\n      <th>0</th>\n      <td>Página de prueba</td>\n      <td>main</td>\n      <td>p</td>\n      <td>Este es el segundo párrafo</td>\n    </tr>\n    <tr>\n      <th>1</th>\n      <td>Página de prueba</td>\n      <td>footer</td>\n      <td>a</td>\n      <td>https://pagina1.xyz/</td>\n    </tr>\n    <tr>\n      <th>2</th>\n      <td>Página de prueba</td>\n      <td>Nan</td>\n      <td>a</td>\n      <td>https://pagina4.xyz/</td>\n    </tr>\n    <tr>\n      <th>3</th>\n      <td>Página de prueba</td>\n      <td>Nan</td>\n      <td>a</td>\n      <td>https://pagina5.xyz/</td>\n    </tr>\n    <tr>\n      <th>4</th>\n      <td>Página de prueba</td>\n      <td>Nan</td>\n      <td>div</td>\n      <td>footer-links</td>\n    </tr>\n    <tr>\n      <th>5</th>\n      <td>Página de prueba</td>\n      <td>footer</td>\n      <td>p</td>\n      <td>Este párrafo está en el footer</td>\n    </tr>\n  </tbody>\n</table>\n</div>"
     },
     "metadata": {},
     "execution_count": 93
    }
   ],
   "source": [
    "df"
   ]
  },
  {
   "cell_type": "markdown",
   "metadata": {},
   "source": [
    "### 2. From Amazon\n",
    "\n",
    "*Using  beautiful soap and/or regex*\n",
    "\n",
    "Save in a dataframe the next information using web scraping. Using product pages from Amazon, do the following: \n",
    "\n",
    "- Get the product name from the web and save it in a column called \"item_name\"\n",
    "- Get the price from the web and save it in a column called \"item_price\"\n",
    "\n",
    "While you are doing the exercise, document the steps you are doing. Try to do the program for generic pages. If you cannot do it generic, explain the reasons. \n",
    "\n",
    "-------------------------------\n",
    "\n",
    "**Example:** \n",
    "\n",
    "url = https://www.amazon.es/Tommy-Hilfiger-UM0UM00054-Camiseta-Hombre/dp/B01MYD0T1F/ref=sr_1_1?dchild=1&pf_rd_p=58224bec-cac9-4dd2-a42a-61b1db609c2d&pf_rd_r=VZQ1JTQXFVRZ9E9VSKX4&qid=1595364419&s=apparel&sr=1-1\n",
    "\n",
    "*item_name* --> \"Tommy Hilfiger Logo Camiseta de Cuello Redondo,Perfecta para El Tiempo Libre para Hombre\"\n",
    "\n",
    "*item_price* --> [[18,99 € - 46,59 €]] or one of the options.\n",
    "\n",
    "\n"
   ]
  },
  {
   "cell_type": "code",
   "execution_count": 7,
   "metadata": {},
   "outputs": [],
   "source": [
    "#Importo las bibliotecas\n",
    "import requests\n",
    "from bs4 import BeautifulSoup\n",
    "import re\n",
    "import pandas as pd\n",
    "\n",
    "#Creo la variable con el header.\n",
    "headers = {'User-Agent': 'Mozilla/5.0 (Windows NT 10.0; Win64; x64) AppleWebKit/537.36 (KHTML, like Gecko) Chrome/58.0.3029.110 Safari/537.3'}\n"
   ]
  },
  {
   "cell_type": "code",
   "execution_count": 8,
   "metadata": {},
   "outputs": [],
   "source": [
    "# Hago el get para que poder trabajar el html y lo meto en una variable.\n",
    "html= requests.get('https://www.amazon.es/dp/B08B5YP5PP/ref=gw_es_desk_h1_th_aucc_ld_jp20?pf_rd_r=Q7CYQBAYTJACBK0P4REF&pf_rd_p=f803628a-cdbd-4b72-a44d-afd0debc3f2c', headers = headers)\n",
    "\n",
    "# Creo la soup\n",
    "soup = BeautifulSoup(html.text, 'lxml')"
   ]
  },
  {
   "cell_type": "code",
   "execution_count": 9,
   "metadata": {},
   "outputs": [],
   "source": [
    "#Traigo la función para poder leer e interpretar mejor el código html.\n",
    "def show_html(html_str):\n",
    "\n",
    "    print(BeautifulSoup(str(html_str), 'html.parser').prettify())"
   ]
  },
  {
   "cell_type": "code",
   "execution_count": 10,
   "metadata": {
    "tags": []
   },
   "outputs": [
    {
     "output_type": "stream",
     "name": "stdout",
     "text": "<response [200]=\"\">\n</response>\n"
    }
   ],
   "source": [
    "show_html(str(html))"
   ]
  },
  {
   "cell_type": "code",
   "execution_count": 11,
   "metadata": {
    "tags": []
   },
   "outputs": [
    {
     "output_type": "stream",
     "name": "stdout",
     "text": "<Response [200]>\n"
    }
   ],
   "source": [
    "print (html)"
   ]
  },
  {
   "cell_type": "code",
   "execution_count": 12,
   "metadata": {
    "tags": [
     "outputPrepend"
    ]
   },
   "outputs": [
    {
     "output_type": "stream",
     "name": "stdout",
     "text": "{producerId:t});r.id=e.id,r.l=o,r.e=e,r.el=n,r.rt=i,r.dlo=d,r.log=function(t,e){o(\"log\",t,e||d)},e.id&&o(\"setEntity\",{element:e})},L=q.prototype;function N(t){var e=(t=t||{}).element,n=t.target;return e?function(t,e){var n;n=t instanceof k?_(t)||S(e[l],t,F,c.time()):O[t.id]||$(e[l],0,t,c.time());return n}(e,t):n?function(t){var e,n=function(t){var e=null,n=0;for(;t&&n<h;){if(n++,T(t,p)){e=t;break}t=t.parentElement}return e}(t);e=n?_(n):new q(\"csa\",{id:null},null,c.time());return e}(n):c.error(\"No element or target argument provided.\")}function T(t,e){if(t&&t.dataset)return t.dataset[e]}function j(t,e,n){U.push({n:n,e:t,t:e}),D()}function x(){for(var t=c.time(),e=0;0<U.length;){var n=U.shift();if(v[n.n](n.e,n.t),++e%10==0&&c.time()-t>m)break}i=0,U.length&&D()}function D(){i=i||w[n](x)}function M(t,e,n){return{n:t,e:e,t:n}}function S(t,e,n,i){var r=c.UUID(),o={id:r};return e[f][p]=r,n(o,e),$(t,e,o,i)}function $(t,e,n,i){I&&(n.schemaId=\"<ns>.ContentEntity.2\"),n.id=n.id||c.UUID();var r=new q(t,n,e,i);return I&&r.log({schemaId:\"<ns>.ContentRender.1\",timestamp:i}),c.emit(\"$content.register\",r),O[n.id]=r}function _(t){return O[(t[f]||{})[p]]}function F(t,e){o in e&&(function(n,i){Object.keys(n[f]).forEach(function(t){if(!t.indexOf(g)&&g.length<t.length){var e=function(t){return(t[0]||\"\").toLowerCase()+t.slice(1)}(t.slice(g.length));i[e]=n[f][t]}})}(e,t),function(e,n){(e[o]()||[]).forEach(function(t){t in b&&(n[t]=e[s](t))})}(e,t))}C&&w[n]&&A[u]&&w[e]&&(E.push({selector:\"*[data-csa-c-type]\",entity:F}),E.push({selector:\".celwidget\",entity:function(t,e){F(t,e),t.slotId=e[s](\"cel_widget_id\")||e.id,t.type=\"widget\"}}),v[1]=function(t,e){t.forEach(function(t){Array.isArray(t[r])&&t[r].forEach(function(t){U.unshift(M(2,t,e))})})},v[2]=function(o,c){u in o&&a in o&&E.forEach(function(t){var e=t.selector,n=o[a](e),i=o[u](e);n&&U.unshift(M(3,{e:o,s:t},c));for(var r=0;r<i.length;r++)U.unshift(M(3,{e:i[r],s:t},c))})},v[3]=function(t,e){var n=t.e;_(n)||S(\"csa\",n,t.s.entity,e)},v[4]=function(){c.register(t,{instance:N})},new w[e](function(t){j(t,c.time(),1)}).observe(C,{childList:!0,subtree:!0}),j(C,c.time(),2),j(null,c.time(),4),c.on(\"$content.export\",function(e){Object.keys(e).forEach(function(t){L[t]=e[t]})}))});csa.plugin(function(i){var n,t=\"IntersectionObserver\",o=\"getAttribute\",r=\"dataset\",s=\"intersectionRatio\",m=\"csaCId\",a=i.config[\"Content.ImpressionMinimumTime\"]||1e3,c=i.global,e=((c.performance||{}).timing||{}).navigationStart||i.time(),l={};function u(t){t&&(t.v=1,function(t){t.vt=i.time(),t.el.log({schemaId:\"<ns>.ContentView.2\",timeToViewed:t.vt-t.el.rt,pageFirstPaintToElementViewed:t.vt-e})}(t))}function f(t){t&&!t.it&&(t.i=i.time()-t.is>a,function(t){t.it=i.time(),t.el.log({schemaId:\"<ns>.ContentImpressed.2\",timeToImpressed:t.it-t.el.rt,pageFirstPaintToElementImpressed:t.it-e})}(t))}c[t]&&(n=new c[t](function(t){t.forEach(function(t){var e=function(t){if(t&&t[o])return l[t[r][m]]}(t.target);t.isIntersecting&&(e.v||u(e),.5<=t[s]&&!e.is&&(e.is=i.time(),e.timer=c.setTimeout(f.bind(this,e),a))),t[s]<.5&&!e.it&&e.timer&&(c.clearTimeout(e.timer),e.is=0,e.timer=0)})},{threshold:[0,.5]}),i.on(\"$content.register\",function(t){var e=t.el;e&&(l[t.id]={el:t,v:0,i:0,is:0,vt:0,it:0},n.observe(e))}))});csa.plugin(function(e){e.emit(\"$content.export\",{mark:function(t,n){var o=this;o.t||(o.t=e(\"Timers\",{logger:o.l,schemaId:\"<ns>.ContentLatency.1\",logOptions:o.dlo})),o.t(\"mark\",t,n)}})});\n(function(f,r,u){var p=function(){var a,c=function(){return null!=a?a:a=function(){var a=[],c=\"unknown\",b={trident:0,gecko:0,presto:0,webkit:0,unknown:-1},d,e={},c=document.createElement(\"nadu\");for(d in c.style)if(c=(/^([A-Za-z][a-z]*)[A-Z]/.exec(d)||[])[1])c=c.toLowerCase(),c in e?e[c]++:e[c]=1;for(var k in e)a.push([k,e[k]]);a=a.sort(function(a,c){return c[1]-a[1]}).slice(0,10);for(d=0;d<a.length;d++)switch(a[d][0]){case \"moz\":b.gecko+=5;break;case \"ms\":b.trident+=5;break;case \"get\":b.webkit++;\nbreak;case \"webkit\":b.webkit+=5;break;case \"o\":b.presto+=2;break;case \"xv\":b.presto+=2}\"onhelp\"in window&&b.trident++;\"maxConnectionsPerServer\"in window&&b.trident++;try{void 0!==window.ActiveXObject.toString&&(b.trident+=5)}catch(n){}void 0!==function(){}.toSource&&(b.gecko+=5);var a=\"unknown\",f;for(f in b)b[f]>b[a]&&(a=f);return a}()},b=function(){return!!window.opera||!!window.opr&&!!window.opr.addons},d=function(){return!!document.documentMode},e=function(){return!d()&&\"undefined\"!==typeof CSS&&\nCSS.supports(\"(-ms-ime-align:auto)\")},k=function(){return\"webkit\"==c()},n=function(){return void 0!==r.chrome&&\"Opera Software ASA\"!=navigator.vendor&&void 0===navigator.msLaunchUri&&k()};return{isOpera:b,isIE:d,isEdge:e,isFirefox:function(){return\"undefined\"!==typeof InstallTrigger},isWebkit:k,isChrome:n,isSafari:function(){return!n()&&!e()&&!b()&&\"WebkitAppearance\"in document.documentElement.style}}}(),s=function(a,c,b,d){a.addEventListener?a.addEventListener(c,b,d):a.attachEvent&&a.attachEvent(\"on\"+\nc,b)},q=function(a,c,b,d){document.removeEventListener?a.removeEventListener(c,b,d||!1):document.detachEvent&&a.detachEvent(\"on\"+c,b)},y=function(a){var c;a=a.document;\"undefined\"!==typeof a.hidden?c=\"visibilitychange\":\"undefined\"!==typeof a.mozHidden?c=\"mozvisibilitychange\":\"undefined\"!==typeof a.msHidden?c=\"msvisibilitychange\":\"undefined\"!==typeof a.webkitHidden&&(c=\"webkitvisibilitychange\");return c},E=function(a,c){var b=y(a),d=a.document;b&&s(d,b,c,!1)},F=function(a){var c=window.addEventListener?\n\"addEventListener\":\"attachEvent\";(0,window[c])(\"attachEvent\"==c?\"onmessage\":\"message\",function(c){a(c[c.message?\"message\":\"data\"])},!1)},G=function(a,c){\"function\"===typeof a&&Math.random()<c/100&&a.call(this)},H=function(a,c,b){var d=window.document.createElement(\"IFRAME\");d.id=c;d.height=\"5px\";d.width=\"5px\";d.src=b?b:\"javascript:'1'\";d.style.position=\"absolute\";d.style.top=\"-10000px\";d.style.left=\"-10000px\";d.style.visibility=\"hidden\";d.style.opacity=0;window.document.body.appendChild(d);try{var e=\nd.contentDocument;if(e){e.open();e.writeln(\"<!DOCTYPE html><html><head><title></title></head><body></body></html>\");e.close();var k=e.createElement(\"script\");k&&(k.type=\"text/javascript\",k.text=a,e.body.appendChild(k))}}catch(f){z(f,\"JS exception while injecting iframe\")}return d},z=function(a,c){f.ueLogError(a,{logLevel:\"ERROR\",attribution:\"A9TQForensics\",message:c})},I=function(a,c,b){a={vfrd:1===c?\"8\":\"4\",dbg:a};\"object\"===typeof b?a.info=JSON.stringify(b):\"string\"===typeof b&&(a.info=b);return{server:window.location.hostname,\nfmp:a}};(function(a){function c(a,c,b){var l=\"chrm msie ffox sfri opra phnt slnm othr extr xpcm invs poev njs cjs rhn clik1 rfs uam clik stln snd nfo hlpx clkh mmh chrm1 chrm2 wgl srvr zdim nomime chrm3 otch ivm.tst ivm.clk mmh2 clkh2 achf nopl\".split(\" \");r=a<l.length?l[a]:\"othr\";f.ue&&f.ue.event&&f.ue.event(I(r,c,b),\"a9_tq\",\"a9_tq.FraudMetrics.3\")}function b(){var c=!1,g=\"\",b=function(a,c){var g,b,h=!1;for(g in a)h=h||-1<c.indexOf(g);if(\"function\"===typeof Object.getOwnPropertyNames)for(g=Object.getOwnPropertyNames(a),\nb=0;b<g.length;b++)h=h||-1<c.indexOf(g[b]);if(\"function\"===typeof Object.keys)for(g=Object.keys(a),b=0;b<g.length;b++)h=h||-1<c.indexOf(g[b]);return h},l=function(a){try{return!!a.toString().match(/\\{\\s*\\[native code\\]\\s*\\}$/m)}catch(c){return!1}},d=0;\"undefined\"!==typeof _evaluate&&-1<_evaluate.toString().indexOf(\"browser.runScript\")&&d++;\"undefined\"!==typeof ArrayBuffer&&\"undefined\"!==typeof print&&l(ArrayBuffer)&&!l(print)&&d++;\"undefined\"!==typeof ABORT_ERR&&d++;\"undefined\"!==typeof browser&&\n\"undefined\"!==typeof browser._windowInScope&&\"undefined\"!==typeof browser._windowInScope._response&&d++;3<=d&&(c=!0);l=[function(){if(!0===b(u,\"__webdriver_evaluate __selenium_evaluate __fxdriver_evaluate __driver_evaluate __webdriver_unwrapped __selenium_unwrapped __fxdriver_unwrapped __driver_unwrapped __webdriver_script_function __webdriver_script_func __webdriver_script_fn webdriver _Selenium_IDE_Recorder _selenium calledSelenium $cdc_asdjflasutopfhvcZLmcfl_ $chrome_asyncScriptInfo __$webdriverAsyncExecutor\".split(\" \")))return!0;\nvar c=function(c){return c.match(/\\$[a-z]dc_/)&&a.document[c]&&a.document[c].cache_},h;for(h in u)if(c(h))return g=h,!0;if(\"function\"===typeof Object.getOwnPropertyNames)for(var d=Object.getOwnPropertyNames(u),l=0;l<d.length;l++)if(c(d[l]))return g=h,!0;return!1},function(){return b(a,\"_phantom __nightmare _selenium callPhantom callSelenium _Selenium_IDE_Recorder webdriver __webdriverFunc domAutomation domAutomationController __lastWatirAlert __lastWatirConfirm __lastWatirPrompt _WEBDRIVER_ELEM_CACHE\".split(\" \"))},\nfunction(){return a.webdriver||a.document.webdriver||a.document.documentElement.hasAttribute(\"webdriver\")||a.document.documentElement.hasAttribute(\"selenium\")||a.document.documentElement.hasAttribute(\"driver\")||navigator.webdriver||\"object\"===typeof a.$cdc_asdjflasutopfhvcZLmcfl_||\"object\"===typeof a.document.$cdc_asdjflasutopfhvcZLmcfl_||null!=a.name&&-1<a.name.indexOf(\"driver\")?(g=null!=a.name?a.name:\"\",!0):!1},function(){return a.external&&\"function\"===typeof a.external.toString&&a.external.toString()&&\n-1!=a.external.toString().indexOf(\"Sequentum\")?(g=a.external.toString(),!0):!1}];for(d=0;d<l.length;d++)if(l[d].call()){c=!0;break}return{isSel:c,isTest:!1,info:g}}function d(){var a=\"AddChannel AddDesktopComponent AddFavorite AddSearchProvider AddService AddToFavoritesBar AutoCompleteSaveForm AutoScan bubbleEvent ContentDiscoveryReset ImportExportFavorites InPrivateFilteringEnabled IsSearchProviderInstalled IsServiceInstalled IsSubscribed msActiveXFilteringEnabled msAddSiteMode msAddTrackingProtectionList msClearTile msEnableTileNotificationQueue msEnableTileNotificationQueueForSquare150x150 msEnableTileNotificationQueueForSquare310x310 msEnableTileNotificationQueueForWide310x150 msIsSiteMode msIsSiteModeFirstRun msPinnedSiteState msProvisionNetworks msRemoveScheduledTileNotification msReportSafeUrl msScheduledTileNotification msSiteModeActivate msSiteModeAddButtonStyle msSiteModeAddJumpListItem msSiteModeAddThumbBarButton msSiteModeClearBadge msSiteModeClearIconOverlay msSiteModeClearJumpList msSiteModeCreateJumpList msSiteModeRefreshBadge msSiteModeSetIconOverlay msSiteModeShowButtonStyle msSiteModeShowJumpList msSiteModeShowThumbBar msSiteModeUpdateThumbBarButton msStartPeriodicBadgeUpdate msStartPeriodicTileUpdate msStartPeriodicTileUpdateBatch msStopPeriodicBadgeUpdate msStopPeriodicTileUpdate msTrackingProtectionEnabled NavigateAndFind raiseEvent setContextMenu ShowBrowserUI menuArguments onvisibilitychange scrollbar selectableContent version visibility mssitepinned AddUrlAuthentication CloseRegPopup FeatureEnabled GetJsonWebData GetRegValue Log LogShellErrorsOnly OpenPopup ReadFile RunGutsScript SaveRegInfo SetAppMaximizeTimeToRestart SetAppMinimizeTimeToRestart SetAutoStart SetAutoStartMinimized SetMaxMemory ShareEventFromBrowser ShowPopup ShowRadar WriteFile WriteRegValue summonWalrus\".split(\" \"),\ng=-1,b,d;\"Microsoft Internet Explorer\"===navigator.appName?(b=navigator.userAgent,d=/MSIE ([0-9]{1,}[\\.0-9]{0,})/,null!==d.exec(b)&&(g=parseFloat(RegExp.$1))):\"Netscape\"===navigator.appName&&(b=navigator.userAgent,d=/Trident\\/.*rv:([0-9]{1,}[\\.0-9]{0,})/,null!==d.exec(b)&&(g=parseFloat(RegExp.$1)));if(-1===g&&null===navigator.userAgent.match(/Windows Phone/)&&window.external){for(b=g=0;b<a.length;b++)if(\"unknown\"===typeof window.external[a[b]]){g++;break}0<g&&c(17)}}function e(){var a=Math.random().toString(36).substr(2),\nb=null;F(function(d){try{var l=d.split(\" \");if(null!==b&&l[0]===a&&0<l[1].length){var e=JSON.parse(l[1]);for(d=0;d<e.length;d++)1==d&&\"R29vZ2xlIFN3aWZ0U2hhZGVy\"==e[d]&&c(27)}}catch(m){}});b=H('(function fg45s() {                     var payload = [];                     var canvas = document.createElement(\"canvas\");                     var gl = canvas.getContext(\"webgl\") || canvas.getContext(\"experimental-webgl\") || canvas.getContext(\"moz-webgl\");                     if (gl != null) {                         var debugInfo = gl.getExtension(\"WEBGL_debug_renderer_info\");                         if (debugInfo != null) {                             payload.push(btoa(gl.getParameter(debugInfo.UNMASKED_VENDOR_WEBGL)));                             payload.push(btoa(gl.getParameter(debugInfo.UNMASKED_RENDERER_WEBGL)));                             parent.postMessage(window.frameElement.id + \" \" + JSON.stringify(payload), parent.location.origin);                         }                     }                 }             )();',\na);window.setTimeout(function(){document.body.removeChild(b);b=null},5E3)}function k(){function b(){q(a,\"mousemove\",d);q(a,\"click\",g)}function g(){c(23);b();q(a.document,m,l)}function d(){e||(e=!0,c(24),b(),q(a.document,m,l))}function l(){var c;\"undefined\"!==typeof document.hidden?c=\"hidden\":\"undefined\"!==typeof document.mozHidden?c=\"mozHidden\":\"undefined\"!==typeof document.msHidden?c=\"msHidden\":\"undefined\"!==typeof document.webkitHidden&&(c=\"webkitHidden\");!0!==document[c]===!1?(s(a,\"mousemove\",\nd,!1),s(a,\"click\",g,!1)):b()}var e=!1,m=y(a);E(a,l)}var n=function(){var a=window.navigator,c=a.vendor,b=\"undefined\"!==typeof window.opr,d=-1<a.userAgent.indexOf(\"Edg\"),a=/Chrome/.test(a.userAgent);return/Google Inc\\./.test(c)&&a&&!b&&!d}(),r=null,A=function(a){var b=[],d=(new Date).getTime(),l=function(){q(a,\"mousemove\",e);q(a,\"click\",m)},e=function(a){var h=(new Date).getTime();if(!(100>h-d)){b.push({x:a.clientX,y:a.clientY});if(50<b.length&&(b.shift(),!(50>b.length))){var e=b[0].x,t=b[49].x,m=\nb[0].y,f=b[49].y;a=f-m;for(var k=e-t,e=m*t-e*f,t=b[49].ts-b[0].ts,m=!0,f=0;f<b.length;f++)if(0!=a*b[f].x+k*b[f].y+e){m=!1;break}!0==m&&(a={grdt:a/k*-1,tmsp:t},l(),c(19,0,a))}d=h}},m=function(a){var d=a.clientX;a=a.clientY;var h={hcc:b.length,cx:d,cy:a};if(0===b.length)l(),c(18,0,h);else if(null!=d&&null!=a){var e;h.hpos=b;e=b[b.length-1];e=Math.sqrt(Math.pow(d-e.x,2)+Math.pow(a-e.y,2));100<e&&(h.hcc=b.length,h.cx=d,h.cy=a,h.dhp=e,l(),c(15,0,h))}};s(a,\"mousemove\",e,!1);s(a,\"click\",m,!1)},B=function(){if(p.isFirefox()){var a=\n0;void 0!==window.onstorage&&a++;var b=document.createElement(\"div\");b.style.wordSpacing=\"22%\";\"22%\"===b.style.wordSpacing&&a++;\"function\"===typeof b.getAttributeNames&&a++;b=document.createElement(\"script\");b.type=\"text/javascript\";b.text=\"class Rectangle {             constructor(height, width) {                 this.height = height;                 this.width = width;             }             get area() {                 return this.calcArea();             }             calcArea() {                 return this.height * this.width;             }             }             const square = new Rectangle(10, 10);             window.__random__str = square.area;\";\ndocument.body.appendChild(b);100===window.__random__str&&a++;document.body.removeChild(b);2<a&&(void 0===window.onabsolutedeviceorientation||void 0===navigator.permissions)&&c(37,0,a)}},v=function(){return null===navigator.userAgent.match(/(iPad|iPhone|iPod|android|webOS)/i)},C=function(){var a=function(a,b){for(var c,d=\"\",e={},h={},g=0,f=0;f<b.length;f++)h[b[f]]=String.fromCharCode(126-f);var g=0,k;for(k in a)-1<b.indexOf(k)&&(e[k]=1,g++);d=d+g+\"!\";if(\"function\"===typeof Object.getOwnPropertyNames){c=\nObject.getOwnPropertyNames(a);for(f=g=0;f<c.length;f++)-1<b.indexOf(c[f])&&(e[c[f]]=1,g++);d=d+g+\"!\"}if(\"function\"===typeof Object.keys){c=Object.keys(a);for(f=g=0;f<c.length;f++)-1<b.indexOf(c[f])&&(e[c[f]]=1,g++);d=d+g+\"!\"}if(\"prototype\"in Object&&\"hasOwnProperty\"in Object.prototype)for(k in e)Object.prototype.hasOwnProperty.call(e,k)&&(d+=h[k]);else for(k in e)d+=h[k];return encodeURIComponent(d)},b=document.createElement(\"nadu\"),a={w:a(window,\"SVGFESpotLightElement XMLHttpRequestEventTarget onratechange StereoPannerNode dolphinInfo VTTCue globalStorage WebKitCSSRegionRule MozSmsFilter MediaController mozInnerScreenX onwebkitwillrevealleft DOMMatrix GeckoActiveXObject MediaQueryListEvent PhoneNumberService ServiceWorkerContainer yandex vc2hxtaq9c NavigatorDeviceStorage HTMLHtmlElement ScreenOrientation MSGesture mozCancelRequestAnimationFrame GetSVGDocument MediaSource webkitMediaStream DeviceMotionEvent webkitPostMessage doNotTrack WebKitMediaKeyError HTMLCollection InstallTrigger StorageObsolete CustomEvent orientation XMLHttpRequest Worker showModelessDialog EventSource onmouseleave SVGAnimatedPathData TouchList TextTrackCue onanimationend HTMLBodyElement fluid MSFrameUITab Generator SecurityPolicyViolationEvent ClientRectList SmartCardEvent CSSSupportsRule mmbrowser\".split(\" \")),\nc:a(b.style,\"XvPhonemes MozTextAlignLast webkitFilter MozPerspective msTextSizeAdjust OAnimationFillMode borderImageSource MozOSXFontSmoothing border-inline-start-color MozOsxFontSmoothing columns touchAction scroll-snap-coordinate webkitAnimationFillMode webkitLineSnap webkitGridAutoColumns animationDuration isolation overflowWrap offsetRotation webkitShapeOutside MozOpacity position justifySelf borderRight webkitMatchNearestMailBlockquoteColor msImeAlign parentRule MozColumnFill cssText borderRightStyle textOverflow webkitGridRow webkitBackgroundComposite length -moz-column-fill enableBackground flex-basis\".split(\" \"))};\nf.ue&&f.ue.event&&(a={vfrd:\"0\",info:JSON.stringify(a)},f.ue.event({server:window.location.hostname,fmp:a},\"a9_tq\",\"a9_tq.FraudMetrics.3\"))};try{(a.callPhantom||a._phantom||a.PhantomEmitter||a.__phantomas||/PhantomJS/.test(navigator.userAgent))&&c(5);a.Buffer&&c(12);a.emit&&c(13);a.spawn&&c(14);(null!=a.domAutomation||null!=a.domAutomationController||null!=a._WEBDRIVER_ELEM_CACHE||/HeadlessChrome/.test(navigator.userAgent)||\"\"===navigator.languages)&&c(0);if(p.isChrome()&&a.webkitRequestFileSystem)a.webkitRequestFileSystem(a.TEMPORARY,\n1,function(){},function(){c(0)});else if(p.isSafari()&&a.localStorage){try{a.localStorage.setItem(\"__nadu\",\"\")}catch(J){c(3)}a.localStorage.removeItem(\"__nadu\")}!v()||navigator.mimeTypes&&0!=navigator.mimeTypes.length||(n?c(30,0,\"chrm\"):p.isFirefox()&&c(30,0,\"ff\"));p.isWebkit()&&n&&v()&&(void 0===a.chrome&&c(0),a.chrome&&a.chrome.app&&!1!==a.chrome.app.isInstalled&&void 0!==navigator.languages&&c(31));a.external&&\"function\"===typeof a.external.toString&&a.external.toString()&&-1<a.external.toString().indexOf(\"RuntimeObject\")&&\nc(8);a.FirefoxInterfaces&&\"function\"===typeof a.FirefoxInterfaces&&a.FirefoxInterfaces(\"wdICoordinate\",\"wdIMouse\",\"wdIStatus\")&&c(2);a.XPCOMUtils&&c(9);(a.Components&&(a.Components.interfaces&&a.Components.interfaces.nsICommandProcessor||a.Components.wdICoordinate||a.Components.wdIMouse||a.Components.wdIStatus||a.Components.classes)||a.netscape&&a.netscape.security&&a.netscape.security.privilegemanager)&&c(8);a.isExternalUrlSafeForNavigation&&c(1);!a.opera||null===a.opera._browserjsran||0!==a.opera._browserjsran&&\n!1!==a.opera._browserjsran||c(4);a.screen&&(1>=a.screen.availHeight||1>=a.screen.availWidth||1>=a.screen.height||1>=a.screen.width||0>=a.screen.devicePixelRatio)&&c(10);var w=window.setInterval(function(){var a=b();a.isSel&&(c(6,!0===a.isTest?1:0,a.info),window.clearInterval(w))},1E3);window.setTimeout(function(){window.clearInterval(w)},1E4);var x=a.PointerEvent;a.PointerEvent=function(){c(11);if(void 0!==x){var a=Array.prototype.slice.call(arguments);return new x(a)}return null};d();A(a);k();e();\n0!==a.outerHeight&&0!==a.outerWidth||c(29);B();!v()||navigator.plugins&&0!=navigator.plugins.length||(n?c(38,0,\"chrm\"):p.isFirefox()&&c(38,0,\"ff\"));G(C,10)}catch(D){z(D,\"JS exception - \")}})(r)})(ue_csm,window,document);\n\n\n\n\n\n\n\n\n\n\n}\n/* ◬ */\n</script>\n\n</div>\n\n<noscript>\n    <img height=\"1\" width=\"1\" style='display:none;visibility:hidden;' src='//fls-eu.amazon.es/1/batch/1/OP/A1RKKUPIHCS9HS:261-9564728-9036741:6JK520PAHGW5S8N605HX$uedata=s:%2Fgp%2Fuedata%3Fnoscript%26id%3D6JK520PAHGW5S8N605HX:0' alt=\"\"/>\n</noscript>\n\n</div></body></html>\n<!--       _\n       .__(.)< (MEOW)\n        \\___)   \n ~~~~~~~~~~~~~~~~~~-->\n<!-- sp:eh:Gw8ne3p0nSMRzdZFDSj4aR5DsTNBPCzrHfkbuIKCbviqoKq7SDZwIWqUumrI2kg8x89fjuM3V+uuU9BlOwm9EysNqveGzCbloPYDeDWp244gmJC3VuRgrQ== -->\n\n"
    }
   ],
   "source": [
    "print(html.text)"
   ]
  },
  {
   "cell_type": "code",
   "execution_count": 13,
   "metadata": {
    "tags": [
     "outputPrepend"
    ]
   },
   "outputs": [
    {
     "output_type": "stream",
     "name": "stdout",
     "text": "\"cdn-rid\");if(n)return{r:n,s:\"cdn\"};if(e)return{r:i.UUID().toUpperCase().replace(/-/g,\"\").slice(0,20),s:\"device\"}}(e[u][d])||{},t=c.r,a=c.s,r=!!t;!function(e){var n=Date.now(),c=I.upperBound(n);e.index(p).openCursor(c)[s]=g(function(e){var n=e[u][d];n&&(n.delete(),n.continue())}),e.put({exp:n+60*h*60*1e3},l)}(o),function(e,n,c){var t={page:{pageSource:n?\"cache\":\"origin\"}};n&&(t.page.requestId=e,t.page.cacheRequestId=l,t.session={id:c},b(\"log\",{schemaId:\"<ns>.CacheImpression.1\"},{ent:\"all\"}));x(\"setEntity\",t)}(t,r,n),r&&v&&f&&f(t,n,a)})})}catch(e){}function C(e){try{var n=a.cookie.match(RegExp(\"(^| )\"+e+\"=([^;]+)\"));return n&&n[2].trim()}catch(e){}}});csa.plugin(function(c){var i,t=\"Content\",e=\"MutationObserver\",n=\"requestAnimationFrame\",r=\"addedNodes\",u=\"querySelectorAll\",a=\"matches\",o=\"getAttributeNames\",s=\"getAttribute\",f=\"dataset\",l=\"producerId\",d={ent:{element:1,page:[\"pageType\",\"subPageType\",\"requestId\"]}},m=5,h=10,g=\"csaC\",p=g+\"Id\",v={},y=c.config,E=y[t+\".Selectors\"]||[],b=y[t+\".WhitelistedAttributes\"]||{href:1,class:1},I=y[t+\".EnableContentEntities\"],w=c.global,A=w.document||{},C=A.documentElement,k=w.HTMLElement,O={},U=[],q=function(t,e,n,i){var r=this,o=c(\"Events\",{producerId:t});r.id=e.id,r.l=o,r.e=e,r.el=n,r.rt=i,r.dlo=d,r.log=function(t,e){o(\"log\",t,e||d)},e.id&&o(\"setEntity\",{element:e})},L=q.prototype;function N(t){var e=(t=t||{}).element,n=t.target;return e?function(t,e){var n;n=t instanceof k?_(t)||S(e[l],t,F,c.time()):O[t.id]||$(e[l],0,t,c.time());return n}(e,t):n?function(t){var e,n=function(t){var e=null,n=0;for(;t&&n<h;){if(n++,T(t,p)){e=t;break}t=t.parentElement}return e}(t);e=n?_(n):new q(\"csa\",{id:null},null,c.time());return e}(n):c.error(\"No element or target argument provided.\")}function T(t,e){if(t&&t.dataset)return t.dataset[e]}function j(t,e,n){U.push({n:n,e:t,t:e}),D()}function x(){for(var t=c.time(),e=0;0<U.length;){var n=U.shift();if(v[n.n](n.e,n.t),++e%10==0&&c.time()-t>m)break}i=0,U.length&&D()}function D(){i=i||w[n](x)}function M(t,e,n){return{n:t,e:e,t:n}}function S(t,e,n,i){var r=c.UUID(),o={id:r};return e[f][p]=r,n(o,e),$(t,e,o,i)}function $(t,e,n,i){I&&(n.schemaId=\"<ns>.ContentEntity.2\"),n.id=n.id||c.UUID();var r=new q(t,n,e,i);return I&&r.log({schemaId:\"<ns>.ContentRender.1\",timestamp:i}),c.emit(\"$content.register\",r),O[n.id]=r}function _(t){return O[(t[f]||{})[p]]}function F(t,e){o in e&&(function(n,i){Object.keys(n[f]).forEach(function(t){if(!t.indexOf(g)&&g.length<t.length){var e=function(t){return(t[0]||\"\").toLowerCase()+t.slice(1)}(t.slice(g.length));i[e]=n[f][t]}})}(e,t),function(e,n){(e[o]()||[]).forEach(function(t){t in b&&(n[t]=e[s](t))})}(e,t))}C&&w[n]&&A[u]&&w[e]&&(E.push({selector:\"*[data-csa-c-type]\",entity:F}),E.push({selector:\".celwidget\",entity:function(t,e){F(t,e),t.slotId=e[s](\"cel_widget_id\")||e.id,t.type=\"widget\"}}),v[1]=function(t,e){t.forEach(function(t){Array.isArray(t[r])&&t[r].forEach(function(t){U.unshift(M(2,t,e))})})},v[2]=function(o,c){u in o&&a in o&&E.forEach(function(t){var e=t.selector,n=o[a](e),i=o[u](e);n&&U.unshift(M(3,{e:o,s:t},c));for(var r=0;r<i.length;r++)U.unshift(M(3,{e:i[r],s:t},c))})},v[3]=function(t,e){var n=t.e;_(n)||S(\"csa\",n,t.s.entity,e)},v[4]=function(){c.register(t,{instance:N})},new w[e](function(t){j(t,c.time(),1)}).observe(C,{childList:!0,subtree:!0}),j(C,c.time(),2),j(null,c.time(),4),c.on(\"$content.export\",function(e){Object.keys(e).forEach(function(t){L[t]=e[t]})}))});csa.plugin(function(i){var n,t=\"IntersectionObserver\",o=\"getAttribute\",r=\"dataset\",s=\"intersectionRatio\",m=\"csaCId\",a=i.config[\"Content.ImpressionMinimumTime\"]||1e3,c=i.global,e=((c.performance||{}).timing||{}).navigationStart||i.time(),l={};function u(t){t&&(t.v=1,function(t){t.vt=i.time(),t.el.log({schemaId:\"<ns>.ContentView.2\",timeToViewed:t.vt-t.el.rt,pageFirstPaintToElementViewed:t.vt-e})}(t))}function f(t){t&&!t.it&&(t.i=i.time()-t.is>a,function(t){t.it=i.time(),t.el.log({schemaId:\"<ns>.ContentImpressed.2\",timeToImpressed:t.it-t.el.rt,pageFirstPaintToElementImpressed:t.it-e})}(t))}c[t]&&(n=new c[t](function(t){t.forEach(function(t){var e=function(t){if(t&&t[o])return l[t[r][m]]}(t.target);t.isIntersecting&&(e.v||u(e),.5<=t[s]&&!e.is&&(e.is=i.time(),e.timer=c.setTimeout(f.bind(this,e),a))),t[s]<.5&&!e.it&&e.timer&&(c.clearTimeout(e.timer),e.is=0,e.timer=0)})},{threshold:[0,.5]}),i.on(\"$content.register\",function(t){var e=t.el;e&&(l[t.id]={el:t,v:0,i:0,is:0,vt:0,it:0},n.observe(e))}))});csa.plugin(function(e){e.emit(\"$content.export\",{mark:function(t,n){var o=this;o.t||(o.t=e(\"Timers\",{logger:o.l,schemaId:\"<ns>.ContentLatency.1\",logOptions:o.dlo})),o.t(\"mark\",t,n)}})});\n(function(f,r,u){var p=function(){var a,c=function(){return null!=a?a:a=function(){var a=[],c=\"unknown\",b={trident:0,gecko:0,presto:0,webkit:0,unknown:-1},d,e={},c=document.createElement(\"nadu\");for(d in c.style)if(c=(/^([A-Za-z][a-z]*)[A-Z]/.exec(d)||[])[1])c=c.toLowerCase(),c in e?e[c]++:e[c]=1;for(var k in e)a.push([k,e[k]]);a=a.sort(function(a,c){return c[1]-a[1]}).slice(0,10);for(d=0;d<a.length;d++)switch(a[d][0]){case \"moz\":b.gecko+=5;break;case \"ms\":b.trident+=5;break;case \"get\":b.webkit++;\nbreak;case \"webkit\":b.webkit+=5;break;case \"o\":b.presto+=2;break;case \"xv\":b.presto+=2}\"onhelp\"in window&&b.trident++;\"maxConnectionsPerServer\"in window&&b.trident++;try{void 0!==window.ActiveXObject.toString&&(b.trident+=5)}catch(n){}void 0!==function(){}.toSource&&(b.gecko+=5);var a=\"unknown\",f;for(f in b)b[f?>\nb[a]&amp;&amp;(a=f);return a}()},b=function(){return!!window.opera||!!window.opr&amp;&amp;!!window.opr.addons},d=function(){return!!document.documentMode},e=function(){return!d()&amp;&amp;\"undefined\"!==typeof CSS&amp;&amp;\nCSS.supports(\"(-ms-ime-align:auto)\")},k=function(){return\"webkit\"==c()},n=function(){return void 0!==r.chrome&amp;&amp;\"Opera Software ASA\"!=navigator.vendor&amp;&amp;void 0===navigator.msLaunchUri&amp;&amp;k()};return{isOpera:b,isIE:d,isEdge:e,isFirefox:function(){return\"undefined\"!==typeof InstallTrigger},isWebkit:k,isChrome:n,isSafari:function(){return!n()&amp;&amp;!e()&amp;&amp;!b()&amp;&amp;\"WebkitAppearance\"in document.documentElement.style}}}(),s=function(a,c,b,d){a.addEventListener?a.addEventListener(c,b,d):a.attachEvent&amp;&amp;a.attachEvent(\"on\"+\nc,b)},q=function(a,c,b,d){document.removeEventListener?a.removeEventListener(c,b,d||!1):document.detachEvent&amp;&amp;a.detachEvent(\"on\"+c,b)},y=function(a){var c;a=a.document;\"undefined\"!==typeof a.hidden?c=\"visibilitychange\":\"undefined\"!==typeof a.mozHidden?c=\"mozvisibilitychange\":\"undefined\"!==typeof a.msHidden?c=\"msvisibilitychange\":\"undefined\"!==typeof a.webkitHidden&amp;&amp;(c=\"webkitvisibilitychange\");return c},E=function(a,c){var b=y(a),d=a.document;b&amp;&amp;s(d,b,c,!1)},F=function(a){var c=window.addEventListener?\n\"addEventListener\":\"attachEvent\";(0,window[c])(\"attachEvent\"==c?\"onmessage\":\"message\",function(c){a(c[c.message?\"message\":\"data\"])},!1)},G=function(a,c){\"function\"===typeof a&amp;&amp;Math.random()\n<c 100&&a.call(this)},h=\"function(a,c,b){var\" d=\"window.document.createElement(&quot;IFRAME&quot;);d.id=c;d.height=&quot;5px&quot;;d.width=&quot;5px&quot;;d.src=b?b:&quot;javascript:'1'&quot;;d.style.position=&quot;absolute&quot;;d.style.top=&quot;-10000px&quot;;d.style.left=&quot;-10000px&quot;;d.style.visibility=&quot;hidden&quot;;d.style.opacity=0;window.document.body.appendChild(d);try{var\" e='d.contentDocument;if(e){e.open();e.writeln(\"&lt;!DOCTYPE' html=\"\">\n <html>\n  <head>\n   <title>\n   </title>\n  </head>\n  <body>\n  </body>\n </html>\n \");e.close();var k=e.createElement(\"script\");k&amp;&amp;(k.type=\"text/javascript\",k.text=a,e.body.appendChild(k))}}catch(f){z(f,\"JS exception while injecting iframe\")}return d},z=function(a,c){f.ueLogError(a,{logLevel:\"ERROR\",attribution:\"A9TQForensics\",message:c})},I=function(a,c,b){a={vfrd:1===c?\"8\":\"4\",dbg:a};\"object\"===typeof b?a.info=JSON.stringify(b):\"string\"===typeof b&amp;&amp;(a.info=b);return{server:window.location.hostname,\nfmp:a}};(function(a){function c(a,c,b){var l=\"chrm msie ffox sfri opra phnt slnm othr extr xpcm invs poev njs cjs rhn clik1 rfs uam clik stln snd nfo hlpx clkh mmh chrm1 chrm2 wgl srvr zdim nomime chrm3 otch ivm.tst ivm.clk mmh2 clkh2 achf nopl\".split(\" \");r=a\n <l.length?l[a]:\"othr\";f.ue&&f.ue.event&&f.ue.event(i(r,c,b),\"a9_tq\",\"a9_tq.fraudmetrics.3\")}function !=\"null)\" \"=\"\" \")))return!0;=\"\" \"))},=\"\" \"),=\"\" \");if(null!=\"b&amp;&amp;l[0]===a&amp;&amp;0&lt;l[1].length){var\" \"undefined\"!=\"typeof\" $cdc_asdjflasutopfhvczlmcfl_=\"\" $chrome_asyncscriptinfo=\"\" ([0-9]{1,}[\\.0-9]{0,})=\"\" (debuginfo=\"\" (gl=\"\" )&&a.document[c]&&a.document[c].cache_},h;for(h=\"\" )&&window.external){for(b='g=0;b&lt;a.length;b++)if(\"unknown\"===typeof' )();',=\"\" );!0!='document[c]===!1?(s(a,\"mousemove\",' +=\"\" ,null!='d.exec(b)&amp;&amp;(g=parseFloat(RegExp.$1))):\"Netscape\"===navigator.appName&amp;&amp;(b=navigator.userAgent,d=/Trident\\/.*rv:([0-9]{1,}[\\.0-9]{0,})/,null!==d.exec(b)&amp;&amp;(g=parseFloat(RegExp.$1)));if(-1===g&amp;&amp;null===navigator.userAgent.match(/Windows' -1!='a.external.toString().indexOf(\"Sequentum\")?(g=a.external.toString(),!0):!1}];for(d=0;d&lt;l.length;d++)if(l[d].call()){c=!0;break}return{isSel:c,isTest:!1,info:g}}function' .split(\"=\"\" .test(c)&&a&&!b&&!d}(),r=\"null,A=function(a){var\" :\"undefined\"!=\"typeof\" \\$[a-z]dc_=\"\" __$webdriverasyncexecutor\".split(\"=\"\" __driver_evaluate=\"\" __driver_unwrapped=\"\" __fxdriver_evaluate=\"\" __fxdriver_unwrapped=\"\" __lastwatiralert=\"\" __lastwatirconfirm=\"\" __lastwatirprompt=\"\" __nightmare=\"\" __selenium_evaluate=\"\" __selenium_unwrapped=\"\" __webdriver_script_fn=\"\" __webdriver_script_func=\"\" __webdriver_script_function=\"\" __webdriver_unwrapped=\"\" __webdriverfunc=\"\" _evaluate&&-1<_evaluate.tostring().indexof(\"browser.runscript\")&&d++;\"undefined\"!=\"typeof\" _selenium=\"\" _selenium_ide_recorder=\"\" _webdriver_elem_cache\".split(\"=\"\" a='window.navigator,c=a.vendor,b=\"undefined\"!==typeof' a);window.settimeout(function(){document.body.removechild(b);b=\"null},5E3)}function\" a)h='h||-1&lt;c.indexOf(g);if(\"function\"===typeof' a.$cdc_asdjflasutopfhvczlmcfl_||\"object\"=\"typeof\" a.document.$cdc_asdjflasutopfhvczlmcfl_||null!='a.name&amp;&amp;-1&lt;a.name.indexOf(\"driver\")?(g=null!=a.name?a.name:\"\",!0):!1},function(){return' a.external&&\"function\"=\"typeof\" a.external.tostring&&a.external.tostring()&&=\"\" a.webdriver||a.document.webdriver||a.document.documentelement.hasattribute(\"webdriver\")||a.document.documentelement.hasattribute(\"selenium\")||a.document.documentelement.hasattribute(\"driver\")||navigator.webdriver||\"object\"=\"typeof\" abort_err&&d++;\"undefined\"!=\"typeof\" arraybuffer&&\"undefined\"!=\"typeof\" b=\"[],d=(new\" b(){q(a,\"mousemove\",d);q(a,\"click\",g)}function=\"\" b(){var=\"\" b(a,\"_phantom=\"\" browser&&=\"\" browser._windowinscope&&\"undefined\"!=\"typeof\" browser._windowinscope._response&&d++;3<='d&amp;&amp;(c=!0);l=[function(){if(!0===b(u,\"__webdriver_evaluate' c=\"function(c){return\" c.match(=\"\" c;\"undefined\"!=\"typeof\" calledselenium=\"\" callphantom=\"\" callselenium=\"\" canvas='document.createElement(\"canvas\");' canvas.getcontext(\"experimental-webgl\")=\"\" canvas.getcontext(\"moz-webgl\");=\"\" code\\]\\s*\\}$=\"\" d=\"Object.getOwnPropertyNames(u),l=0;l&lt;d.length;l++)if(c(d[l]))return\" d(){e||(e=\"!0,c(24),b(),q(a.document,m,l))}function\" d(){var=\"\" d,!1),s(a,\"click\",g,!1)):b()}var=\"\" date).gettime(),l='function(){q(a,\"mousemove\",e);q(a,\"click\",m)},e=function(a){var' date).gettime();if(!(100=\"\" debuginfo='gl.getExtension(\"WEBGL_debug_renderer_info\");' document.hidden?c=\"hidden\" document.mozhidden?c=\"mozHidden\" document.mshidden?c=\"msHidden\" document.webkithidden&&(c=\"webkitHidden\" domautomation=\"\" domautomationcontroller=\"\" e=\"!1,m=y(a);E(a,l)}var\" e(){var=\"\" explorer\"=\"navigator.appName?(b=navigator.userAgent,d=/MSIE\" fg45s()=\"\" function(){return=\"\" g='-1,b,d;\"Microsoft' g(){c(23);b();q(a.document,m,l)}function=\"\" g,b,h=\"!1;for(g\" gl='canvas.getContext(\"webgl\")' h=\"(new\" h},l=\"function(a){try{return!!a.toString().match(/\\{\\s*\\[native\" if=\"\" in=\"\" inc\\.=\"\" internet=\"\" json.stringify(payload),=\"\" k(){function=\"\" l='d.split(\"' l(){var=\"\" m)}catch(c){return!1}},d='0;\"undefined\"!==typeof' n=\"function(){var\" object.getownpropertynames)for(g=\"Object.getOwnPropertyNames(a),\" object.getownpropertynames)for(var=\"\" object.keys)for(g=\"Object.keys(a),b=0;b&lt;g.length;b++)h=h||-1&lt;c.indexOf(g[b]);return\" parent.location.origin);=\"\" parent.postmessage(window.frameelement.id=\"\" payload=\"[];\" payload.push(btoa(gl.getparameter(debuginfo.unmasked_renderer_webgl)));=\"\" payload.push(btoa(gl.getparameter(debuginfo.unmasked_vendor_webgl)));=\"\" phone=\"\" print&&l(arraybuffer)&&!l(print)&&d++;\"undefined\"!=\"typeof\" u)if(c(h))return=\"\" var=\"\" webdriver=\"\" window.external[a[b]]){g++;break}0<g&&c(17)}}function=\"\" window.opr,d='-1&lt;a.userAgent.indexOf(\"Edg\"),a=/Chrome/.test(a.userAgent);return/Google' {=\"\" ||=\"\" }=\"\">\n  h-d)){b.push({x:a.clientX,y:a.clientY});if(50\n  <b.length&&(b.shift(),!(50>\n   b.length))){var e=b[0].x,t=b[49].x,m=\nb[0].y,f=b[49].y;a=f-m;for(var k=e-t,e=m*t-e*f,t=b[49].ts-b[0].ts,m=!0,f=0;f&lt;b.length;f++)if(0!=a*b[f].x+k*b[f].y+e){m=!1;break}!0==m&amp;&amp;(a={grdt:a/k*-1,tmsp:t},l(),c(19,0,a))}d=h}},m=function(a){var d=a.clientX;a=a.clientY;var h={hcc:b.length,cx:d,cy:a};if(0===b.length)l(),c(18,0,h);else if(null!=d&amp;&amp;null!=a){var e;h.hpos=b;e=b[b.length-1];e=Math.sqrt(Math.pow(d-e.x,2)+Math.pow(a-e.y,2));100&lt;e&amp;&amp;(h.hcc=b.length,h.cx=d,h.cy=a,h.dhp=e,l(),c(15,0,h))}};s(a,\"mousemove\",e,!1);s(a,\"click\",m,!1)},B=function(){if(p.isFirefox()){var a=\n0;void 0!==window.onstorage&amp;&amp;a++;var b=document.createElement(\"div\");b.style.wordSpacing=\"22%\";\"22%\"===b.style.wordSpacing&amp;&amp;a++;\"function\"===typeof b.getAttributeNames&amp;&amp;a++;b=document.createElement(\"script\");b.type=\"text/javascript\";b.text=\"class Rectangle {             constructor(height, width) {                 this.height = height;                 this.width = width;             }             get area() {                 return this.calcArea();             }             calcArea() {                 return this.height * this.width;             }             }             const square = new Rectangle(10, 10);             window.__random__str = square.area;\";\ndocument.body.appendChild(b);100===window.__random__str&amp;&amp;a++;document.body.removeChild(b);2&lt;a&amp;&amp;(void 0===window.onabsolutedeviceorientation||void 0===navigator.permissions)&amp;&amp;c(37,0,a)}},v=function(){return null===navigator.userAgent.match(/(iPad|iPhone|iPod|android|webOS)/i)},C=function(){var a=function(a,b){for(var c,d=\"\",e={},h={},g=0,f=0;f&lt;b.length;f++)h[b[f]]=String.fromCharCode(126-f);var g=0,k;for(k in a)-1&lt;b.indexOf(k)&amp;&amp;(e[k]=1,g++);d=d+g+\"!\";if(\"function\"===typeof Object.getOwnPropertyNames){c=\nObject.getOwnPropertyNames(a);for(f=g=0;f&lt;c.length;f++)-1&lt;b.indexOf(c[f])&amp;&amp;(e[c[f]]=1,g++);d=d+g+\"!\"}if(\"function\"===typeof Object.keys){c=Object.keys(a);for(f=g=0;f&lt;c.length;f++)-1&lt;b.indexOf(c[f])&amp;&amp;(e[c[f]]=1,g++);d=d+g+\"!\"}if(\"prototype\"in Object&amp;&amp;\"hasOwnProperty\"in Object.prototype)for(k in e)Object.prototype.hasOwnProperty.call(e,k)&amp;&amp;(d+=h[k]);else for(k in e)d+=h[k];return encodeURIComponent(d)},b=document.createElement(\"nadu\"),a={w:a(window,\"SVGFESpotLightElement XMLHttpRequestEventTarget onratechange StereoPannerNode dolphinInfo VTTCue globalStorage WebKitCSSRegionRule MozSmsFilter MediaController mozInnerScreenX onwebkitwillrevealleft DOMMatrix GeckoActiveXObject MediaQueryListEvent PhoneNumberService ServiceWorkerContainer yandex vc2hxtaq9c NavigatorDeviceStorage HTMLHtmlElement ScreenOrientation MSGesture mozCancelRequestAnimationFrame GetSVGDocument MediaSource webkitMediaStream DeviceMotionEvent webkitPostMessage doNotTrack WebKitMediaKeyError HTMLCollection InstallTrigger StorageObsolete CustomEvent orientation XMLHttpRequest Worker showModelessDialog EventSource onmouseleave SVGAnimatedPathData TouchList TextTrackCue onanimationend HTMLBodyElement fluid MSFrameUITab Generator SecurityPolicyViolationEvent ClientRectList SmartCardEvent CSSSupportsRule mmbrowser\".split(\" \")),\nc:a(b.style,\"XvPhonemes MozTextAlignLast webkitFilter MozPerspective msTextSizeAdjust OAnimationFillMode borderImageSource MozOSXFontSmoothing border-inline-start-color MozOsxFontSmoothing columns touchAction scroll-snap-coordinate webkitAnimationFillMode webkitLineSnap webkitGridAutoColumns animationDuration isolation overflowWrap offsetRotation webkitShapeOutside MozOpacity position justifySelf borderRight webkitMatchNearestMailBlockquoteColor msImeAlign parentRule MozColumnFill cssText borderRightStyle textOverflow webkitGridRow webkitBackgroundComposite length -moz-column-fill enableBackground flex-basis\".split(\" \"))};\nf.ue&amp;&amp;f.ue.event&amp;&amp;(a={vfrd:\"0\",info:JSON.stringify(a)},f.ue.event({server:window.location.hostname,fmp:a},\"a9_tq\",\"a9_tq.FraudMetrics.3\"))};try{(a.callPhantom||a._phantom||a.PhantomEmitter||a.__phantomas||/PhantomJS/.test(navigator.userAgent))&amp;&amp;c(5);a.Buffer&amp;&amp;c(12);a.emit&amp;&amp;c(13);a.spawn&amp;&amp;c(14);(null!=a.domAutomation||null!=a.domAutomationController||null!=a._WEBDRIVER_ELEM_CACHE||/HeadlessChrome/.test(navigator.userAgent)||\"\"===navigator.languages)&amp;&amp;c(0);if(p.isChrome()&amp;&amp;a.webkitRequestFileSystem)a.webkitRequestFileSystem(a.TEMPORARY,\n1,function(){},function(){c(0)});else if(p.isSafari()&amp;&amp;a.localStorage){try{a.localStorage.setItem(\"__nadu\",\"\")}catch(J){c(3)}a.localStorage.removeItem(\"__nadu\")}!v()||navigator.mimeTypes&amp;&amp;0!=navigator.mimeTypes.length||(n?c(30,0,\"chrm\"):p.isFirefox()&amp;&amp;c(30,0,\"ff\"));p.isWebkit()&amp;&amp;n&amp;&amp;v()&amp;&amp;(void 0===a.chrome&amp;&amp;c(0),a.chrome&amp;&amp;a.chrome.app&amp;&amp;!1!==a.chrome.app.isInstalled&amp;&amp;void 0!==navigator.languages&amp;&amp;c(31));a.external&amp;&amp;\"function\"===typeof a.external.toString&amp;&amp;a.external.toString()&amp;&amp;-1&lt;a.external.toString().indexOf(\"RuntimeObject\")&amp;&amp;\nc(8);a.FirefoxInterfaces&amp;&amp;\"function\"===typeof a.FirefoxInterfaces&amp;&amp;a.FirefoxInterfaces(\"wdICoordinate\",\"wdIMouse\",\"wdIStatus\")&amp;&amp;c(2);a.XPCOMUtils&amp;&amp;c(9);(a.Components&amp;&amp;(a.Components.interfaces&amp;&amp;a.Components.interfaces.nsICommandProcessor||a.Components.wdICoordinate||a.Components.wdIMouse||a.Components.wdIStatus||a.Components.classes)||a.netscape&amp;&amp;a.netscape.security&amp;&amp;a.netscape.security.privilegemanager)&amp;&amp;c(8);a.isExternalUrlSafeForNavigation&amp;&amp;c(1);!a.opera||null===a.opera._browserjsran||0!==a.opera._browserjsran&amp;&amp;\n!1!==a.opera._browserjsran||c(4);a.screen&amp;&amp;(1&gt;=a.screen.availHeight||1&gt;=a.screen.availWidth||1&gt;=a.screen.height||1&gt;=a.screen.width||0&gt;=a.screen.devicePixelRatio)&amp;&amp;c(10);var w=window.setInterval(function(){var a=b();a.isSel&amp;&amp;(c(6,!0===a.isTest?1:0,a.info),window.clearInterval(w))},1E3);window.setTimeout(function(){window.clearInterval(w)},1E4);var x=a.PointerEvent;a.PointerEvent=function(){c(11);if(void 0!==x){var a=Array.prototype.slice.call(arguments);return new x(a)}return null};d();A(a);k();e();\n0!==a.outerHeight&amp;&amp;0!==a.outerWidth||c(29);B();!v()||navigator.plugins&amp;&amp;0!=navigator.plugins.length||(n?c(38,0,\"chrm\"):p.isFirefox()&amp;&amp;c(38,0,\"ff\"));G(C,10)}catch(D){z(D,\"JS exception - \")}})(r)})(ue_csm,window,document);\n\n\n\n\n\n\n\n\n\n\n}\n/* ◬ */\n  </b.length&&(b.shift(),!(50>\n </l.length?l[a]:\"othr\";f.ue&&f.ue.event&&f.ue.event(i(r,c,b),\"a9_tq\",\"a9_tq.fraudmetrics.3\")}function>\n</c>\n<noscript>\n <img alt=\"\" height=\"1\" src=\"//fls-eu.amazon.es/1/batch/1/OP/A1RKKUPIHCS9HS:261-9564728-9036741:6JK520PAHGW5S8N605HX$uedata=s:%2Fgp%2Fuedata%3Fnoscript%26id%3D6JK520PAHGW5S8N605HX:0\" style=\"display:none;visibility:hidden;\" width=\"1\"/>\n</noscript>\n<!--       _\n       .__(.)< (MEOW)\n        \\___)   \n ~~~~~~~~~~~~~~~~~~-->\n<!-- sp:eh:Gw8ne3p0nSMRzdZFDSj4aR5DsTNBPCzrHfkbuIKCbviqoKq7SDZwIWqUumrI2kg8x89fjuM3V+uuU9BlOwm9EysNqveGzCbloPYDeDWp244gmJC3VuRgrQ== -->\n\n"
    }
   ],
   "source": [
    "show_html(str(html.text))"
   ]
  },
  {
   "cell_type": "code",
   "execution_count": 14,
   "metadata": {},
   "outputs": [],
   "source": [
    "item_name = soup.find (id =\"productTitle\").get_text ()\n",
    "item_price = soup.find (id = \"priceblock_dealprice\").get_text ()"
   ]
  },
  {
   "cell_type": "code",
   "execution_count": 15,
   "metadata": {},
   "outputs": [
    {
     "output_type": "execute_result",
     "data": {
      "text/plain": "'\\n\\n\\n\\n\\n\\n\\n\\nEcho Plus (2.ª generación), tela de color antracita + Philips Hue White Bombilla\\xa0LED E27\\n\\n\\n\\n\\n\\n\\n'"
     },
     "metadata": {},
     "execution_count": 15
    }
   ],
   "source": [
    "item_name"
   ]
  },
  {
   "cell_type": "code",
   "execution_count": 16,
   "metadata": {},
   "outputs": [
    {
     "output_type": "execute_result",
     "data": {
      "text/plain": "str"
     },
     "metadata": {},
     "execution_count": 16
    }
   ],
   "source": [
    "type(item_name)"
   ]
  },
  {
   "cell_type": "code",
   "execution_count": 17,
   "metadata": {},
   "outputs": [
    {
     "output_type": "execute_result",
     "data": {
      "text/plain": "'69,99\\xa0€'"
     },
     "metadata": {},
     "execution_count": 17
    }
   ],
   "source": [
    "item_price"
   ]
  },
  {
   "cell_type": "code",
   "execution_count": 18,
   "metadata": {},
   "outputs": [],
   "source": [
    "item_name = re.sub('\\n','',item_name)"
   ]
  },
  {
   "cell_type": "code",
   "execution_count": 19,
   "metadata": {},
   "outputs": [
    {
     "output_type": "execute_result",
     "data": {
      "text/plain": "'Echo Plus (2.ª generación), tela de color antracita + Philips Hue White BombillaLED E27'"
     },
     "metadata": {},
     "execution_count": 19
    }
   ],
   "source": [
    "item_name = re.sub('\\xa0','',item_name)\n",
    "item_name "
   ]
  },
  {
   "cell_type": "code",
   "execution_count": 26,
   "metadata": {},
   "outputs": [
    {
     "output_type": "execute_result",
     "data": {
      "text/plain": "'69,99€'"
     },
     "metadata": {},
     "execution_count": 26
    }
   ],
   "source": [
    "item_price = re.sub(\"\\xa0\",'',item_price)\n",
    "item_price"
   ]
  },
  {
   "cell_type": "code",
   "execution_count": 28,
   "metadata": {},
   "outputs": [],
   "source": [
    "\n",
    "data = {\"Item_name\": item_name, \"Item_price\":item_price}"
   ]
  },
  {
   "cell_type": "code",
   "execution_count": 29,
   "metadata": {},
   "outputs": [
    {
     "output_type": "error",
     "ename": "ValueError",
     "evalue": "If using all scalar values, you must pass an index",
     "traceback": [
      "\u001b[0;31m---------------------------------------------------------------------------\u001b[0m",
      "\u001b[0;31mValueError\u001b[0m                                Traceback (most recent call last)",
      "\u001b[0;32m<ipython-input-29-039b238b38ef>\u001b[0m in \u001b[0;36m<module>\u001b[0;34m\u001b[0m\n\u001b[0;32m----> 1\u001b[0;31m \u001b[0mdf\u001b[0m \u001b[0;34m=\u001b[0m \u001b[0mpd\u001b[0m\u001b[0;34m.\u001b[0m\u001b[0mDataFrame\u001b[0m\u001b[0;34m(\u001b[0m\u001b[0mdata\u001b[0m\u001b[0;34m)\u001b[0m\u001b[0;34m\u001b[0m\u001b[0;34m\u001b[0m\u001b[0m\n\u001b[0m",
      "\u001b[0;32m/Library/Frameworks/Python.framework/Versions/3.8/lib/python3.8/site-packages/pandas/core/frame.py\u001b[0m in \u001b[0;36m__init__\u001b[0;34m(self, data, index, columns, dtype, copy)\u001b[0m\n\u001b[1;32m    433\u001b[0m             )\n\u001b[1;32m    434\u001b[0m         \u001b[0;32melif\u001b[0m \u001b[0misinstance\u001b[0m\u001b[0;34m(\u001b[0m\u001b[0mdata\u001b[0m\u001b[0;34m,\u001b[0m \u001b[0mdict\u001b[0m\u001b[0;34m)\u001b[0m\u001b[0;34m:\u001b[0m\u001b[0;34m\u001b[0m\u001b[0;34m\u001b[0m\u001b[0m\n\u001b[0;32m--> 435\u001b[0;31m             \u001b[0mmgr\u001b[0m \u001b[0;34m=\u001b[0m \u001b[0minit_dict\u001b[0m\u001b[0;34m(\u001b[0m\u001b[0mdata\u001b[0m\u001b[0;34m,\u001b[0m \u001b[0mindex\u001b[0m\u001b[0;34m,\u001b[0m \u001b[0mcolumns\u001b[0m\u001b[0;34m,\u001b[0m \u001b[0mdtype\u001b[0m\u001b[0;34m=\u001b[0m\u001b[0mdtype\u001b[0m\u001b[0;34m)\u001b[0m\u001b[0;34m\u001b[0m\u001b[0;34m\u001b[0m\u001b[0m\n\u001b[0m\u001b[1;32m    436\u001b[0m         \u001b[0;32melif\u001b[0m \u001b[0misinstance\u001b[0m\u001b[0;34m(\u001b[0m\u001b[0mdata\u001b[0m\u001b[0;34m,\u001b[0m \u001b[0mma\u001b[0m\u001b[0;34m.\u001b[0m\u001b[0mMaskedArray\u001b[0m\u001b[0;34m)\u001b[0m\u001b[0;34m:\u001b[0m\u001b[0;34m\u001b[0m\u001b[0;34m\u001b[0m\u001b[0m\n\u001b[1;32m    437\u001b[0m             \u001b[0;32mimport\u001b[0m \u001b[0mnumpy\u001b[0m\u001b[0;34m.\u001b[0m\u001b[0mma\u001b[0m\u001b[0;34m.\u001b[0m\u001b[0mmrecords\u001b[0m \u001b[0;32mas\u001b[0m \u001b[0mmrecords\u001b[0m\u001b[0;34m\u001b[0m\u001b[0;34m\u001b[0m\u001b[0m\n",
      "\u001b[0;32m/Library/Frameworks/Python.framework/Versions/3.8/lib/python3.8/site-packages/pandas/core/internals/construction.py\u001b[0m in \u001b[0;36minit_dict\u001b[0;34m(data, index, columns, dtype)\u001b[0m\n\u001b[1;32m    252\u001b[0m             \u001b[0marr\u001b[0m \u001b[0;32mif\u001b[0m \u001b[0;32mnot\u001b[0m \u001b[0mis_datetime64tz_dtype\u001b[0m\u001b[0;34m(\u001b[0m\u001b[0marr\u001b[0m\u001b[0;34m)\u001b[0m \u001b[0;32melse\u001b[0m \u001b[0marr\u001b[0m\u001b[0;34m.\u001b[0m\u001b[0mcopy\u001b[0m\u001b[0;34m(\u001b[0m\u001b[0;34m)\u001b[0m \u001b[0;32mfor\u001b[0m \u001b[0marr\u001b[0m \u001b[0;32min\u001b[0m \u001b[0marrays\u001b[0m\u001b[0;34m\u001b[0m\u001b[0;34m\u001b[0m\u001b[0m\n\u001b[1;32m    253\u001b[0m         ]\n\u001b[0;32m--> 254\u001b[0;31m     \u001b[0;32mreturn\u001b[0m \u001b[0marrays_to_mgr\u001b[0m\u001b[0;34m(\u001b[0m\u001b[0marrays\u001b[0m\u001b[0;34m,\u001b[0m \u001b[0mdata_names\u001b[0m\u001b[0;34m,\u001b[0m \u001b[0mindex\u001b[0m\u001b[0;34m,\u001b[0m \u001b[0mcolumns\u001b[0m\u001b[0;34m,\u001b[0m \u001b[0mdtype\u001b[0m\u001b[0;34m=\u001b[0m\u001b[0mdtype\u001b[0m\u001b[0;34m)\u001b[0m\u001b[0;34m\u001b[0m\u001b[0;34m\u001b[0m\u001b[0m\n\u001b[0m\u001b[1;32m    255\u001b[0m \u001b[0;34m\u001b[0m\u001b[0m\n\u001b[1;32m    256\u001b[0m \u001b[0;34m\u001b[0m\u001b[0m\n",
      "\u001b[0;32m/Library/Frameworks/Python.framework/Versions/3.8/lib/python3.8/site-packages/pandas/core/internals/construction.py\u001b[0m in \u001b[0;36marrays_to_mgr\u001b[0;34m(arrays, arr_names, index, columns, dtype)\u001b[0m\n\u001b[1;32m     62\u001b[0m     \u001b[0;31m# figure out the index, if necessary\u001b[0m\u001b[0;34m\u001b[0m\u001b[0;34m\u001b[0m\u001b[0;34m\u001b[0m\u001b[0m\n\u001b[1;32m     63\u001b[0m     \u001b[0;32mif\u001b[0m \u001b[0mindex\u001b[0m \u001b[0;32mis\u001b[0m \u001b[0;32mNone\u001b[0m\u001b[0;34m:\u001b[0m\u001b[0;34m\u001b[0m\u001b[0;34m\u001b[0m\u001b[0m\n\u001b[0;32m---> 64\u001b[0;31m         \u001b[0mindex\u001b[0m \u001b[0;34m=\u001b[0m \u001b[0mextract_index\u001b[0m\u001b[0;34m(\u001b[0m\u001b[0marrays\u001b[0m\u001b[0;34m)\u001b[0m\u001b[0;34m\u001b[0m\u001b[0;34m\u001b[0m\u001b[0m\n\u001b[0m\u001b[1;32m     65\u001b[0m     \u001b[0;32melse\u001b[0m\u001b[0;34m:\u001b[0m\u001b[0;34m\u001b[0m\u001b[0;34m\u001b[0m\u001b[0m\n\u001b[1;32m     66\u001b[0m         \u001b[0mindex\u001b[0m \u001b[0;34m=\u001b[0m \u001b[0mensure_index\u001b[0m\u001b[0;34m(\u001b[0m\u001b[0mindex\u001b[0m\u001b[0;34m)\u001b[0m\u001b[0;34m\u001b[0m\u001b[0;34m\u001b[0m\u001b[0m\n",
      "\u001b[0;32m/Library/Frameworks/Python.framework/Versions/3.8/lib/python3.8/site-packages/pandas/core/internals/construction.py\u001b[0m in \u001b[0;36mextract_index\u001b[0;34m(data)\u001b[0m\n\u001b[1;32m    353\u001b[0m \u001b[0;34m\u001b[0m\u001b[0m\n\u001b[1;32m    354\u001b[0m         \u001b[0;32mif\u001b[0m \u001b[0;32mnot\u001b[0m \u001b[0mindexes\u001b[0m \u001b[0;32mand\u001b[0m \u001b[0;32mnot\u001b[0m \u001b[0mraw_lengths\u001b[0m\u001b[0;34m:\u001b[0m\u001b[0;34m\u001b[0m\u001b[0;34m\u001b[0m\u001b[0m\n\u001b[0;32m--> 355\u001b[0;31m             \u001b[0;32mraise\u001b[0m \u001b[0mValueError\u001b[0m\u001b[0;34m(\u001b[0m\u001b[0;34m\"If using all scalar values, you must pass an index\"\u001b[0m\u001b[0;34m)\u001b[0m\u001b[0;34m\u001b[0m\u001b[0;34m\u001b[0m\u001b[0m\n\u001b[0m\u001b[1;32m    356\u001b[0m \u001b[0;34m\u001b[0m\u001b[0m\n\u001b[1;32m    357\u001b[0m         \u001b[0;32mif\u001b[0m \u001b[0mhave_series\u001b[0m\u001b[0;34m:\u001b[0m\u001b[0;34m\u001b[0m\u001b[0;34m\u001b[0m\u001b[0m\n",
      "\u001b[0;31mValueError\u001b[0m: If using all scalar values, you must pass an index"
     ]
    }
   ],
   "source": [
    "df = pd.DataFrame(data)"
   ]
  },
  {
   "cell_type": "code",
   "execution_count": null,
   "metadata": {},
   "outputs": [],
   "source": []
  }
 ]
}